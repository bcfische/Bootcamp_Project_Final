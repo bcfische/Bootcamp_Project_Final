{
 "cells": [
  {
   "cell_type": "code",
   "execution_count": 1,
   "metadata": {},
   "outputs": [],
   "source": [
    "import pandas as pd\n",
    "import numpy as np\n",
    "import matplotlib.pyplot as plt\n",
    "from sklearn.model_selection import train_test_split\n",
    "from sklearn.linear_model import LinearRegression"
   ]
  },
  {
   "cell_type": "code",
   "execution_count": 2,
   "metadata": {
    "scrolled": true
   },
   "outputs": [
    {
     "name": "stderr",
     "output_type": "stream",
     "text": [
      "C:\\Users\\junnk\\Anaconda3\\envs\\PythonData\\lib\\site-packages\\IPython\\core\\interactiveshell.py:3020: DtypeWarning: Columns (44,62,63) have mixed types. Specify dtype option on import or set low_memory=False.\n",
      "  interactivity=interactivity, compiler=compiler, result=result)\n"
     ]
    }
   ],
   "source": [
    "airbnb_df = pd.read_csv('airbnb.csv')\n",
    "crime_df = pd.read_csv('cw2018.csv')"
   ]
  },
  {
   "cell_type": "code",
   "execution_count": null,
   "metadata": {},
   "outputs": [],
   "source": []
  },
  {
   "cell_type": "code",
   "execution_count": null,
   "metadata": {},
   "outputs": [],
   "source": []
  },
  {
   "cell_type": "code",
   "execution_count": 6,
   "metadata": {
    "scrolled": true
   },
   "outputs": [
    {
     "name": "stdout",
     "output_type": "stream",
     "text": [
      "                        Latitude  Longitude  CrimeType  CrimeWeight\n",
      "community                                                          \n",
      "ALBANY PARK                 2237       2237       2237         2237\n",
      "ARCHER HEIGHTS               774        774        774          774\n",
      "ARMOUR SQUARE                960        960        960          960\n",
      "ASHBURN                     2187       2187       2187         2187\n",
      "AUBURN GRESHAM              6754       6754       6754         6754\n",
      "AUSTIN                     13849      13849      13849        13849\n",
      "AVALON PARK                 1063       1063       1063         1063\n",
      "AVONDALE                    2168       2168       2168         2168\n",
      "BELMONT CRAGIN              3945       3945       3945         3945\n",
      "BEVERLY                      812        812        812          812\n",
      "BRIDGEPORT                  1390       1390       1390         1390\n",
      "BRIGHTON PARK               2011       2011       2011         2011\n",
      "BURNSIDE                     353        353        353          353\n",
      "CALUMET HEIGHTS             1244       1244       1244         1244\n",
      "CHATHAM                     6017       6017       6017         6017\n",
      "CHICAGO LAWN                5236       5236       5236         5236\n",
      "CLEARING                     852        852        852          852\n",
      "DOUGLAS                     2460       2460       2460         2460\n",
      "DUNNING                     1350       1350       1350         1350\n",
      "EAST GARFIELD PARK          4561       4561       4561         4561\n",
      "EAST SIDE                    999        999        999          999\n",
      "EDGEWATER                   2585       2585       2585         2585\n",
      "EDISON PARK                  230        230        230          230\n",
      "ENGLEWOOD                   5623       5623       5623         5623\n",
      "FOREST GLEN                  455        455        455          455\n",
      "FULLER PARK                  774        774        774          774\n",
      "GAGE PARK                   1899       1899       1899         1899\n",
      "GARFIELD RIDGE              1912       1912       1912         1912\n",
      "GRAND BOULEVARD             2976       2976       2976         2976\n",
      "GREATER GRAND CROSSING      5804       5804       5804         5804\n",
      "...                          ...        ...        ...          ...\n",
      "NEAR NORTH SIDE            12404      12404      12404        12404\n",
      "NEAR SOUTH SIDE             1692       1692       1692         1692\n",
      "NEAR WEST SIDE              8804       8804       8804         8804\n",
      "NEW CITY                    3870       3870       3870         3870\n",
      "NORTH CENTER                1223       1223       1223         1223\n",
      "NORTH LAWNDALE              8711       8711       8711         8711\n",
      "NORTH PARK                   920        920        920          920\n",
      "NORWOOD PARK                1068       1068       1068         1068\n",
      "OAKLAND                      562        562        562          562\n",
      "OHARE                       1495       1495       1495         1495\n",
      "PORTAGE PARK                2927       2927       2927         2927\n",
      "PULLMAN                     1059       1059       1059         1059\n",
      "RIVERDALE                   1212       1212       1212         1212\n",
      "ROGERS PARK                 3542       3542       3542         3542\n",
      "ROSELAND                    6202       6202       6202         6202\n",
      "SOUTH CHICAGO               3928       3928       3928         3928\n",
      "SOUTH DEERING               1602       1602       1602         1602\n",
      "SOUTH LAWNDALE              4193       4193       4193         4193\n",
      "SOUTH SHORE                 7883       7883       7883         7883\n",
      "UPTOWN                      3363       3363       3363         3363\n",
      "WASHINGTON HEIGHTS          2873       2873       2873         2873\n",
      "WASHINGTON PARK             2564       2564       2564         2564\n",
      "WEST ELSDON                  921        921        921          921\n",
      "WEST ENGLEWOOD              6453       6453       6453         6453\n",
      "WEST GARFIELD PARK          5320       5320       5320         5320\n",
      "WEST LAWN                   1647       1647       1647         1647\n",
      "WEST PULLMAN                3591       3591       3591         3591\n",
      "WEST RIDGE                  3216       3216       3216         3216\n",
      "WEST TOWN                   6876       6876       6876         6876\n",
      "WOODLAWN                    3141       3141       3141         3141\n",
      "\n",
      "[77 rows x 4 columns]\n"
     ]
    }
   ],
   "source": [
    "new_crime_df = crime_df.groupby('community').count()\n",
    "print(new_crime_df)"
   ]
  },
  {
   "cell_type": "code",
   "execution_count": 7,
   "metadata": {},
   "outputs": [
    {
     "name": "stdout",
     "output_type": "stream",
     "text": [
      "                                id  price\n",
      "community                                \n",
      "ALBANY PARK             25690485.0   65.0\n",
      "ARCHER HEIGHTS          31874230.0   85.0\n",
      "ARMOUR SQUARE           27786281.0   74.5\n",
      "ASHBURN                 20836169.0   65.0\n",
      "AUBURN GRESHAM          27014287.0   60.0\n",
      "AUSTIN                  27610896.0   72.0\n",
      "AVALON PARK             29663566.0   80.0\n",
      "AVONDALE                25075222.5   90.0\n",
      "BELMONT CRAGIN          27757906.5   60.0\n",
      "BEVERLY                 23436637.0   60.0\n",
      "BRIDGEPORT              27004197.5   75.0\n",
      "BRIGHTON PARK           28410137.0   69.0\n",
      "CALUMET HEIGHTS         28718680.0   30.0\n",
      "CHATHAM                 25884182.5   51.5\n",
      "CHICAGO LAWN            26423697.0   57.0\n",
      "CLEARING                23895370.0   60.0\n",
      "DOUGLAS                 27276029.0   86.0\n",
      "DUNNING                 21667420.0   69.0\n",
      "EAST GARFIELD PARK      22754683.0   49.0\n",
      "EDGEWATER               21933351.0   85.0\n",
      "EDISON PARK             29395575.0  100.0\n",
      "ENGLEWOOD               22944270.5   22.5\n",
      "FOREST GLEN             21596172.0   65.0\n",
      "FULLER PARK             35640059.5  154.0\n",
      "GAGE PARK               21398801.0   45.0\n",
      "GARFIELD RIDGE          32587377.5   94.5\n",
      "GRAND BOULEVARD         24525968.5   96.5\n",
      "GREATER GRAND CROSSING  25539275.5   80.0\n",
      "HEGEWISCH               29031464.0   99.5\n",
      "HERMOSA                 21115429.5   73.5\n",
      "...                            ...    ...\n",
      "NEAR NORTH SIDE         26635454.0  182.0\n",
      "NEAR SOUTH SIDE         29049659.0  200.0\n",
      "NEAR WEST SIDE          26975755.5  103.0\n",
      "NEW CITY                27197594.0   55.0\n",
      "NORTH CENTER            21526201.0  132.5\n",
      "NORTH LAWNDALE          19607327.5   40.5\n",
      "NORTH PARK              27058146.0   76.0\n",
      "NORWOOD PARK            24042876.0   60.0\n",
      "OAKLAND                 10353904.5   92.5\n",
      "OHARE                   35607922.0   90.0\n",
      "PORTAGE PARK            20700984.0   75.0\n",
      "PULLMAN                 27398741.0   80.0\n",
      "RIVERDALE               34894392.0   25.0\n",
      "ROGERS PARK             21252535.0   70.0\n",
      "ROSELAND                32467607.0  115.0\n",
      "SOUTH CHICAGO           16978896.5   20.0\n",
      "SOUTH DEERING            4777997.0  150.0\n",
      "SOUTH LAWNDALE          26431044.5   63.0\n",
      "SOUTH SHORE             27664967.0   75.0\n",
      "UPTOWN                  23056161.0   99.0\n",
      "WASHINGTON HEIGHTS      28886908.5   20.5\n",
      "WASHINGTON PARK         29650949.0  128.0\n",
      "WEST ELSDON             30330669.5   50.0\n",
      "WEST ENGLEWOOD          26890083.0   10.0\n",
      "WEST GARFIELD PARK      27480470.5   54.5\n",
      "WEST LAWN               22398932.5   59.5\n",
      "WEST PULLMAN            28913992.0   40.0\n",
      "WEST RIDGE              22627276.0   60.0\n",
      "WEST TOWN               21519766.0  112.0\n",
      "WOODLAWN                27996059.0   59.0\n",
      "\n",
      "[75 rows x 2 columns]\n"
     ]
    }
   ],
   "source": [
    "new_airbnb_df2 = new_airbnb_df.groupby('community').median()\n",
    "print(new_airbnb_df2)"
   ]
  },
  {
   "cell_type": "code",
   "execution_count": 8,
   "metadata": {},
   "outputs": [
    {
     "data": {
      "text/html": [
       "<div>\n",
       "<style scoped>\n",
       "    .dataframe tbody tr th:only-of-type {\n",
       "        vertical-align: middle;\n",
       "    }\n",
       "\n",
       "    .dataframe tbody tr th {\n",
       "        vertical-align: top;\n",
       "    }\n",
       "\n",
       "    .dataframe thead th {\n",
       "        text-align: right;\n",
       "    }\n",
       "</style>\n",
       "<table border=\"1\" class=\"dataframe\">\n",
       "  <thead>\n",
       "    <tr style=\"text-align: right;\">\n",
       "      <th></th>\n",
       "      <th>Latitude</th>\n",
       "      <th>Longitude</th>\n",
       "      <th>CrimeType</th>\n",
       "      <th>CrimeWeight</th>\n",
       "      <th>id</th>\n",
       "      <th>price</th>\n",
       "    </tr>\n",
       "    <tr>\n",
       "      <th>community</th>\n",
       "      <th></th>\n",
       "      <th></th>\n",
       "      <th></th>\n",
       "      <th></th>\n",
       "      <th></th>\n",
       "      <th></th>\n",
       "    </tr>\n",
       "  </thead>\n",
       "  <tbody>\n",
       "    <tr>\n",
       "      <th>ALBANY PARK</th>\n",
       "      <td>2237</td>\n",
       "      <td>2237</td>\n",
       "      <td>2237</td>\n",
       "      <td>2237</td>\n",
       "      <td>25690485.0</td>\n",
       "      <td>65.0</td>\n",
       "    </tr>\n",
       "    <tr>\n",
       "      <th>ARCHER HEIGHTS</th>\n",
       "      <td>774</td>\n",
       "      <td>774</td>\n",
       "      <td>774</td>\n",
       "      <td>774</td>\n",
       "      <td>31874230.0</td>\n",
       "      <td>85.0</td>\n",
       "    </tr>\n",
       "    <tr>\n",
       "      <th>ARMOUR SQUARE</th>\n",
       "      <td>960</td>\n",
       "      <td>960</td>\n",
       "      <td>960</td>\n",
       "      <td>960</td>\n",
       "      <td>27786281.0</td>\n",
       "      <td>74.5</td>\n",
       "    </tr>\n",
       "    <tr>\n",
       "      <th>ASHBURN</th>\n",
       "      <td>2187</td>\n",
       "      <td>2187</td>\n",
       "      <td>2187</td>\n",
       "      <td>2187</td>\n",
       "      <td>20836169.0</td>\n",
       "      <td>65.0</td>\n",
       "    </tr>\n",
       "    <tr>\n",
       "      <th>AUBURN GRESHAM</th>\n",
       "      <td>6754</td>\n",
       "      <td>6754</td>\n",
       "      <td>6754</td>\n",
       "      <td>6754</td>\n",
       "      <td>27014287.0</td>\n",
       "      <td>60.0</td>\n",
       "    </tr>\n",
       "  </tbody>\n",
       "</table>\n",
       "</div>"
      ],
      "text/plain": [
       "                Latitude  Longitude  CrimeType  CrimeWeight          id  price\n",
       "community                                                                     \n",
       "ALBANY PARK         2237       2237       2237         2237  25690485.0   65.0\n",
       "ARCHER HEIGHTS       774        774        774          774  31874230.0   85.0\n",
       "ARMOUR SQUARE        960        960        960          960  27786281.0   74.5\n",
       "ASHBURN             2187       2187       2187         2187  20836169.0   65.0\n",
       "AUBURN GRESHAM      6754       6754       6754         6754  27014287.0   60.0"
      ]
     },
     "execution_count": 8,
     "metadata": {},
     "output_type": "execute_result"
    }
   ],
   "source": [
    "merge_table = pd.merge(new_crime_df, new_airbnb_df2, right_index=True, left_index=True)\n",
    "merge_table.head()"
   ]
  },
  {
   "cell_type": "code",
   "execution_count": 9,
   "metadata": {},
   "outputs": [
    {
     "name": "stdout",
     "output_type": "stream",
     "text": [
      "0.021648169133891892\n",
      "[[0.00190893]]\n",
      "[73.43373936]\n"
     ]
    }
   ],
   "source": [
    "y = merge_table['price'].values.reshape(-1, 1)\n",
    "x = merge_table['CrimeType'].values.reshape(-1, 1)\n",
    "model = LinearRegression()\n",
    "model.fit(x, y)\n",
    "\n",
    "score = model.score(x, y)\n",
    "coefficient = model.coef_\n",
    "intercept = model.intercept_\n",
    "print(score)\n",
    "print(coefficient)\n",
    "print(intercept)"
   ]
  },
  {
   "cell_type": "code",
   "execution_count": null,
   "metadata": {
    "scrolled": true
   },
   "outputs": [],
   "source": []
  },
  {
   "cell_type": "code",
   "execution_count": 15,
   "metadata": {},
   "outputs": [
    {
     "data": {
      "image/png": "[encoded data removed]",
      "text/plain": [
       "<Figure size 432x288 with 1 Axes>"
      ]
     },
     "metadata": {
      "needs_background": "light"
     },
     "output_type": "display_data"
    }
   ],
   "source": [
    "x_min = np.array([[x.min()]])\n",
    "x_max = np.array([[x.max()]])\n",
    "y_min = model.predict(x_min)\n",
    "y_max = model.predict(x_max)\n",
    "plt.xlabel(\"Number of Crimes\")\n",
    "plt.ylabel(\"Median Airbnb Price\")\n",
    "plt.title(\"Median Price vs Crime Count\")\n",
    "plt.scatter(x, y)\n",
    "plt.plot([x_min[0], x_max[0]], [y_min[0], y_max[0]], c='red')\n",
    "\n",
    "plt.show()"
   ]
  },
  {
   "cell_type": "code",
   "execution_count": null,
   "metadata": {},
   "outputs": [],
   "source": []
  }
 ],
 "metadata": {
  "kernelspec": {
   "display_name": "Python 3",
   "language": "python",
   "name": "python3"
  },
  "language_info": {
   "codemirror_mode": {
    "name": "ipython",
    "version": 3
   },
   "file_extension": ".py",
   "mimetype": "text/x-python",
   "name": "python",
   "nbconvert_exporter": "python",
   "pygments_lexer": "ipython3",
   "version": "3.6.7"
  }
 },
 "nbformat": 4,
 "nbformat_minor": 2
}
