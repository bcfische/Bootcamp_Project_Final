{
 "cells": [
  {
   "cell_type": "code",
   "execution_count": 1,
   "metadata": {},
   "outputs": [],
   "source": [
    "import numpy as np\n",
    "import pandas as pd\n",
    "import seaborn as sns"
   ]
  },
  {
   "cell_type": "code",
   "execution_count": 2,
   "metadata": {},
   "outputs": [],
   "source": [
    "reviews = pd.read_csv(\"/Users/taouficgandi/Downloads/airbnb/reviews.csv\")"
   ]
  },
  {
   "cell_type": "code",
   "execution_count": 3,
   "metadata": {},
   "outputs": [
    {
     "data": {
      "text/html": [
       "<div>\n",
       "<style scoped>\n",
       "    .dataframe tbody tr th:only-of-type {\n",
       "        vertical-align: middle;\n",
       "    }\n",
       "\n",
       "    .dataframe tbody tr th {\n",
       "        vertical-align: top;\n",
       "    }\n",
       "\n",
       "    .dataframe thead th {\n",
       "        text-align: right;\n",
       "    }\n",
       "</style>\n",
       "<table border=\"1\" class=\"dataframe\">\n",
       "  <thead>\n",
       "    <tr style=\"text-align: right;\">\n",
       "      <th></th>\n",
       "      <th>listing_id</th>\n",
       "      <th>id</th>\n",
       "      <th>date</th>\n",
       "      <th>reviewer_id</th>\n",
       "      <th>reviewer_name</th>\n",
       "      <th>comments</th>\n",
       "    </tr>\n",
       "  </thead>\n",
       "  <tbody>\n",
       "    <tr>\n",
       "      <th>0</th>\n",
       "      <td>2384</td>\n",
       "      <td>25218143</td>\n",
       "      <td>2015-01-09</td>\n",
       "      <td>14385014</td>\n",
       "      <td>Ivan</td>\n",
       "      <td>it's a wonderful trip experience. I didn't exc...</td>\n",
       "    </tr>\n",
       "    <tr>\n",
       "      <th>1</th>\n",
       "      <td>2384</td>\n",
       "      <td>28475392</td>\n",
       "      <td>2015-03-24</td>\n",
       "      <td>16241178</td>\n",
       "      <td>Namhaitou</td>\n",
       "      <td>This is my first trip using Airbnb. I was a li...</td>\n",
       "    </tr>\n",
       "    <tr>\n",
       "      <th>2</th>\n",
       "      <td>2384</td>\n",
       "      <td>30273263</td>\n",
       "      <td>2015-04-19</td>\n",
       "      <td>26101401</td>\n",
       "      <td>Patrick</td>\n",
       "      <td>The reservation was canceled 80 days before ar...</td>\n",
       "    </tr>\n",
       "    <tr>\n",
       "      <th>3</th>\n",
       "      <td>2384</td>\n",
       "      <td>30974202</td>\n",
       "      <td>2015-04-30</td>\n",
       "      <td>26247321</td>\n",
       "      <td>Cristina</td>\n",
       "      <td>Sólo puedo decir cosas buenas de Rebecca. La h...</td>\n",
       "    </tr>\n",
       "    <tr>\n",
       "      <th>4</th>\n",
       "      <td>2384</td>\n",
       "      <td>31363208</td>\n",
       "      <td>2015-05-04</td>\n",
       "      <td>31293837</td>\n",
       "      <td>SuJung</td>\n",
       "      <td>Rebecca was an absolutely wonderful host.\\r\\n\\...</td>\n",
       "    </tr>\n",
       "  </tbody>\n",
       "</table>\n",
       "</div>"
      ],
      "text/plain": [
       "   listing_id        id        date  reviewer_id reviewer_name  \\\n",
       "0        2384  25218143  2015-01-09     14385014          Ivan   \n",
       "1        2384  28475392  2015-03-24     16241178     Namhaitou   \n",
       "2        2384  30273263  2015-04-19     26101401       Patrick   \n",
       "3        2384  30974202  2015-04-30     26247321      Cristina   \n",
       "4        2384  31363208  2015-05-04     31293837        SuJung   \n",
       "\n",
       "                                            comments  \n",
       "0  it's a wonderful trip experience. I didn't exc...  \n",
       "1  This is my first trip using Airbnb. I was a li...  \n",
       "2  The reservation was canceled 80 days before ar...  \n",
       "3  Sólo puedo decir cosas buenas de Rebecca. La h...  \n",
       "4  Rebecca was an absolutely wonderful host.\\r\\n\\...  "
      ]
     },
     "execution_count": 3,
     "metadata": {},
     "output_type": "execute_result"
    }
   ],
   "source": [
    "reviews.head()"
   ]
  },
  {
   "cell_type": "code",
   "execution_count": 4,
   "metadata": {
    "scrolled": true
   },
   "outputs": [
    {
     "name": "stdout",
     "output_type": "stream",
     "text": [
      "listing_id------------------------------ {'neg': 0.0, 'neu': 0.69, 'pos': 0.31, 'compound': 0.9489}\n",
      "listing_id------------------------------ {'neg': 0.037, 'neu': 0.776, 'pos': 0.187, 'compound': 0.9519}\n",
      "listing_id------------------------------ {'neg': 0.0, 'neu': 1.0, 'pos': 0.0, 'compound': 0.0}\n",
      "listing_id------------------------------ {'neg': 0.0, 'neu': 1.0, 'pos': 0.0, 'compound': 0.0}\n",
      "listing_id------------------------------ {'neg': 0.038, 'neu': 0.844, 'pos': 0.118, 'compound': 0.9669}\n",
      "listing_id------------------------------ {'neg': 0.021, 'neu': 0.838, 'pos': 0.142, 'compound': 0.9809}\n",
      "listing_id------------------------------ {'neg': 0.0, 'neu': 0.743, 'pos': 0.257, 'compound': 0.9689}\n",
      "listing_id------------------------------ {'neg': 0.0, 'neu': 0.51, 'pos': 0.49, 'compound': 0.9857}\n",
      "listing_id------------------------------ {'neg': 0.014, 'neu': 0.607, 'pos': 0.379, 'compound': 0.9971}\n",
      "listing_id------------------------------ {'neg': 0.011, 'neu': 0.854, 'pos': 0.134, 'compound': 0.9752}\n",
      "listing_id------------------------------ {'neg': 0.0, 'neu': 0.793, 'pos': 0.207, 'compound': 0.9594}\n",
      "listing_id------------------------------ {'neg': 0.0, 'neu': 0.784, 'pos': 0.216, 'compound': 0.8779}\n",
      "listing_id------------------------------ {'neg': 0.038, 'neu': 0.647, 'pos': 0.315, 'compound': 0.9412}\n",
      "listing_id------------------------------ {'neg': 0.02, 'neu': 0.778, 'pos': 0.202, 'compound': 0.9538}\n",
      "listing_id------------------------------ {'neg': 0.0, 'neu': 0.736, 'pos': 0.264, 'compound': 0.9412}\n",
      "listing_id------------------------------ {'neg': 0.0, 'neu': 0.597, 'pos': 0.403, 'compound': 0.9599}\n",
      "listing_id------------------------------ {'neg': 0.075, 'neu': 0.482, 'pos': 0.443, 'compound': 0.9604}\n",
      "listing_id------------------------------ {'neg': 0.0, 'neu': 0.683, 'pos': 0.317, 'compound': 0.9554}\n",
      "listing_id------------------------------ {'neg': 0.0, 'neu': 0.63, 'pos': 0.37, 'compound': 0.9798}\n",
      "listing_id------------------------------ {'neg': 0.0, 'neu': 0.66, 'pos': 0.34, 'compound': 0.9707}\n",
      "listing_id------------------------------ {'neg': 0.015, 'neu': 0.799, 'pos': 0.186, 'compound': 0.982}\n",
      "listing_id------------------------------ {'neg': 0.0, 'neu': 0.736, 'pos': 0.264, 'compound': 0.9716}\n",
      "listing_id------------------------------ {'neg': 0.0, 'neu': 0.733, 'pos': 0.267, 'compound': 0.9468}\n",
      "listing_id------------------------------ {'neg': 0.05, 'neu': 0.767, 'pos': 0.183, 'compound': 0.9496}\n",
      "listing_id------------------------------ {'neg': 0.007, 'neu': 0.741, 'pos': 0.252, 'compound': 0.9963}\n",
      "listing_id------------------------------ {'neg': 0.0, 'neu': 0.702, 'pos': 0.298, 'compound': 0.9701}\n",
      "listing_id------------------------------ {'neg': 0.0, 'neu': 0.906, 'pos': 0.094, 'compound': 0.7351}\n",
      "listing_id------------------------------ {'neg': 0.0, 'neu': 0.71, 'pos': 0.29, 'compound': 0.9831}\n",
      "listing_id------------------------------ {'neg': 0.0, 'neu': 0.625, 'pos': 0.375, 'compound': 0.9785}\n",
      "listing_id------------------------------ {'neg': 0.013, 'neu': 0.845, 'pos': 0.142, 'compound': 0.9578}\n",
      "listing_id------------------------------ {'neg': 0.0, 'neu': 0.522, 'pos': 0.478, 'compound': 0.9398}\n",
      "listing_id------------------------------ {'neg': 0.033, 'neu': 0.737, 'pos': 0.23, 'compound': 0.9774}\n",
      "listing_id------------------------------ {'neg': 0.0, 'neu': 0.667, 'pos': 0.333, 'compound': 0.9096}\n",
      "listing_id------------------------------ {'neg': 0.0, 'neu': 0.501, 'pos': 0.499, 'compound': 0.9179}\n",
      "listing_id------------------------------ {'neg': 0.0, 'neu': 0.666, 'pos': 0.334, 'compound': 0.9556}\n",
      "listing_id------------------------------ {'neg': 0.016, 'neu': 0.819, 'pos': 0.165, 'compound': 0.9509}\n",
      "listing_id------------------------------ {'neg': 0.0, 'neu': 0.556, 'pos': 0.444, 'compound': 0.6105}\n",
      "listing_id------------------------------ {'neg': 0.029, 'neu': 0.842, 'pos': 0.129, 'compound': 0.8735}\n",
      "listing_id------------------------------ {'neg': 0.0, 'neu': 0.613, 'pos': 0.387, 'compound': 0.9773}\n",
      "listing_id------------------------------ {'neg': 0.0, 'neu': 0.429, 'pos': 0.571, 'compound': 0.6114}\n",
      "listing_id------------------------------ {'neg': 0.0, 'neu': 0.609, 'pos': 0.391, 'compound': 0.9371}\n",
      "listing_id------------------------------ {'neg': 0.0, 'neu': 0.645, 'pos': 0.355, 'compound': 0.8313}\n",
      "listing_id------------------------------ {'neg': 0.014, 'neu': 0.707, 'pos': 0.279, 'compound': 0.9889}\n",
      "listing_id------------------------------ {'neg': 0.0, 'neu': 0.759, 'pos': 0.241, 'compound': 0.913}\n",
      "listing_id------------------------------ {'neg': 0.031, 'neu': 0.795, 'pos': 0.174, 'compound': 0.9715}\n",
      "listing_id------------------------------ {'neg': 0.0, 'neu': 0.742, 'pos': 0.258, 'compound': 0.9595}\n",
      "listing_id------------------------------ {'neg': 0.027, 'neu': 0.633, 'pos': 0.34, 'compound': 0.9793}\n",
      "listing_id------------------------------ {'neg': 0.02, 'neu': 0.741, 'pos': 0.239, 'compound': 0.9881}\n",
      "listing_id------------------------------ {'neg': 0.0, 'neu': 0.572, 'pos': 0.428, 'compound': 0.8999}\n",
      "listing_id------------------------------ {'neg': 0.016, 'neu': 0.902, 'pos': 0.082, 'compound': 0.7264}\n"
     ]
    },
    {
     "name": "stderr",
     "output_type": "stream",
     "text": [
      "[nltk_data] Downloading package vader_lexicon to\n",
      "[nltk_data]     /Users/taouficgandi/nltk_data...\n",
      "[nltk_data]   Package vader_lexicon is already up-to-date!\n"
     ]
    }
   ],
   "source": [
    "import nltk\n",
    "nltk.downloader.download('vader_lexicon')\n",
    "from nltk.sentiment.vader import SentimentIntensityAnalyzer\n",
    "sentiment_analyzer = SentimentIntensityAnalyzer()\n",
    "for sentence in reviews['comments'].values[:50]:\n",
    "    score = sentiment_analyzer.polarity_scores(sentence)\n",
    "    print(\"{:-<40} {}\".format(\"listing_id\", str(score)))"
   ]
  },
  {
   "cell_type": "code",
   "execution_count": 7,
   "metadata": {},
   "outputs": [
    {
     "ename": "ModuleNotFoundError",
     "evalue": "No module named 'wordcloud'",
     "output_type": "error",
     "traceback": [
      "\u001b[0;31m---------------------------------------------------------------------------\u001b[0m",
      "\u001b[0;31mModuleNotFoundError\u001b[0m                       Traceback (most recent call last)",
      "\u001b[0;32m<ipython-input-7-807ffdee734c>\u001b[0m in \u001b[0;36m<module>\u001b[0;34m\u001b[0m\n\u001b[0;32m----> 1\u001b[0;31m \u001b[0;32mfrom\u001b[0m \u001b[0mwordcloud\u001b[0m \u001b[0;32mimport\u001b[0m \u001b[0mWordCloud\u001b[0m\u001b[0;34m,\u001b[0m \u001b[0mSTOPWORDS\u001b[0m\u001b[0;34m,\u001b[0m \u001b[0mImageColorGenerator\u001b[0m\u001b[0;34m\u001b[0m\u001b[0;34m\u001b[0m\u001b[0m\n\u001b[0m",
      "\u001b[0;31mModuleNotFoundError\u001b[0m: No module named 'wordcloud'"
     ]
    }
   ],
   "source": [
    "from wordcloud import WordCloud, STOPWORDS, ImageColorGenerator"
   ]
  },
  {
   "cell_type": "code",
   "execution_count": null,
   "metadata": {},
   "outputs": [],
   "source": []
  }
 ],
 "metadata": {
  "kernelspec": {
   "display_name": "Python 3",
   "language": "python",
   "name": "python3"
  },
  "language_info": {
   "codemirror_mode": {
    "name": "ipython",
    "version": 3
   },
   "file_extension": ".py",
   "mimetype": "text/x-python",
   "name": "python",
   "nbconvert_exporter": "python",
   "pygments_lexer": "ipython3",
   "version": "3.7.3"
  }
 },
 "nbformat": 4,
 "nbformat_minor": 2
}
